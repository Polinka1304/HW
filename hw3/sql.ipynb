{
 "cells": [
  {
   "cell_type": "code",
   "execution_count": 3,
   "metadata": {},
   "outputs": [],
   "source": [
    "import matplotlib.pyplot as plt\n",
    "import seaborn as sns\n",
    "import pandas as pd\n",
    "import numpy as np\n",
    "from sklearn.model_selection import train_test_split\n",
    "from sklearn.preprocessing import StandardScaler\n",
    "from sklearn.linear_model import LinearRegression\n",
    "from sklearn.metrics import r2_score, mean_squared_error\n",
    "import sqlite3"
   ]
  },
  {
   "cell_type": "code",
   "execution_count": 7,
   "metadata": {},
   "outputs": [
    {
     "name": "stdout",
     "output_type": "stream",
     "text": [
      "<class 'pandas.core.frame.DataFrame'>\n",
      "RangeIndex: 1100 entries, 0 to 1099\n",
      "Data columns (total 13 columns):\n",
      " #   Column                      Non-Null Count  Dtype  \n",
      "---  ------                      --------------  -----  \n",
      " 0   uranium_lead_ratio          1100 non-null   float64\n",
      " 1   carbon_14_ratio             1100 non-null   float64\n",
      " 2   radioactive_decay_series    1100 non-null   float64\n",
      " 3   stratigraphic_layer_depth   1100 non-null   float64\n",
      " 4   geological_period           1100 non-null   object \n",
      " 5   paleomagnetic_data          1100 non-null   object \n",
      " 6   inclusion_of_other_fossils  1100 non-null   bool   \n",
      " 7   isotopic_composition        1100 non-null   float64\n",
      " 8   surrounding_rock_type       1100 non-null   object \n",
      " 9   stratigraphic_position      1100 non-null   object \n",
      " 10  fossil_size                 1100 non-null   float64\n",
      " 11  fossil_weight               1100 non-null   float64\n",
      " 12  age                         1100 non-null   int64  \n",
      "dtypes: bool(1), float64(7), int64(1), object(4)\n",
      "memory usage: 104.3+ KB\n"
     ]
    }
   ],
   "source": [
    "df = pd.read_csv('test_data.csv')\n",
    "df.info()"
   ]
  },
  {
   "cell_type": "code",
   "execution_count": 8,
   "metadata": {},
   "outputs": [
    {
     "data": {
      "text/plain": [
       "Index(['uranium_lead_ratio', 'carbon_14_ratio', 'radioactive_decay_series',\n",
       "       'stratigraphic_layer_depth', 'geological_period', 'paleomagnetic_data',\n",
       "       'inclusion_of_other_fossils', 'isotopic_composition',\n",
       "       'surrounding_rock_type', 'stratigraphic_position', 'fossil_size',\n",
       "       'fossil_weight', 'age'],\n",
       "      dtype='object')"
      ]
     },
     "execution_count": 8,
     "metadata": {},
     "output_type": "execute_result"
    }
   ],
   "source": [
    "df.columns"
   ]
  },
  {
   "cell_type": "code",
   "execution_count": 4,
   "metadata": {},
   "outputs": [],
   "source": [
    "conn = sqlite3.connect('fossil_age.db')\n",
    "cursor = conn.cursor()"
   ]
  },
  {
   "cell_type": "code",
   "execution_count": 9,
   "metadata": {},
   "outputs": [
    {
     "data": {
      "text/plain": [
       "<sqlite3.Cursor at 0x1764a0efb40>"
      ]
     },
     "execution_count": 9,
     "metadata": {},
     "output_type": "execute_result"
    }
   ],
   "source": [
    "cursor.execute('''CREATE TABLE IF NOT EXISTS fossil (\n",
    "               id INTEGER PRIMARY KEY,\n",
    "               uranium_lead_ratio FLOAT, \n",
    "               carbon_14_ratio FLOAT,\n",
    "               radioactive_decay_series FLOAT,\n",
    "               stratigraphic_layer_depth FLOAT,\n",
    "               geological_period TEXT,\n",
    "               paleomagnetic_data TEXT,\n",
    "               inclusion_of_other_fossils BINARY,\n",
    "               isotopic_composition FLOAT,\n",
    "               surrounding_rock_type TEXT,\n",
    "               stratigraphic_position TEXT,\n",
    "               fossil_size FLOAT,\n",
    "               fossil_weight FLOAT,\n",
    "               age INTEGER\n",
    "               )''')"
   ]
  }
 ],
 "metadata": {
  "kernelspec": {
   "display_name": "Python 3",
   "language": "python",
   "name": "python3"
  },
  "language_info": {
   "codemirror_mode": {
    "name": "ipython",
    "version": 3
   },
   "file_extension": ".py",
   "mimetype": "text/x-python",
   "name": "python",
   "nbconvert_exporter": "python",
   "pygments_lexer": "ipython3",
   "version": "3.10.11"
  }
 },
 "nbformat": 4,
 "nbformat_minor": 2
}
